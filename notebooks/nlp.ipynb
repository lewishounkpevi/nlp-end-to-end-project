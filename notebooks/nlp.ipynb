{
 "cells": [
  {
   "cell_type": "code",
   "execution_count": 1,
   "metadata": {},
   "outputs": [
    {
     "name": "stderr",
     "output_type": "stream",
     "text": [
      "/home/lewis/nlp-end-to-end-project/.nlp-end-to-end-project/lib/python3.11/site-packages/tqdm/auto.py:21: TqdmWarning: IProgress not found. Please update jupyter and ipywidgets. See https://ipywidgets.readthedocs.io/en/stable/user_install.html\n",
      "  from .autonotebook import tqdm as notebook_tqdm\n"
     ]
    }
   ],
   "source": [
    "import spacy\n",
    "from transformers import pipeline, AutoModelForSequenceClassification, AutoTokenizer\n",
    "import torch\n",
    "# !python3.11 -m spacy download fr_core_news_sm"
   ]
  },
  {
   "cell_type": "code",
   "execution_count": 2,
   "metadata": {},
   "outputs": [],
   "source": [
    "# Charger le modèle spaCy pour le prétraitement\n",
    "nlp = spacy.load('fr_core_news_sm')"
   ]
  },
  {
   "cell_type": "code",
   "execution_count": 3,
   "metadata": {},
   "outputs": [],
   "source": [
    "# Charger le modèle BERT pour l'analyse des sentiments en français\n",
    "sentiment_model = AutoModelForSequenceClassification.from_pretrained(\"nlptown/bert-base-multilingual-uncased-sentiment\")\n",
    "sentiment_tokenizer = AutoTokenizer.from_pretrained(\"nlptown/bert-base-multilingual-uncased-sentiment\")\n",
    "sentiment_analyzer = pipeline('sentiment-analysis', model=sentiment_model, tokenizer=sentiment_tokenizer)"
   ]
  },
  {
   "cell_type": "code",
   "execution_count": 4,
   "metadata": {},
   "outputs": [],
   "source": [
    "# Charger le modèle GPT pour la génération de texte\n",
    "gpt_model = pipeline(\"text-generation\", model=\"gpt2\")"
   ]
  },
  {
   "cell_type": "code",
   "execution_count": 5,
   "metadata": {},
   "outputs": [],
   "source": [
    "# Fonction pour prétraiter le texte avec spaCy\n",
    "def preprocess_text(text):\n",
    "    doc = nlp(text)\n",
    "    tokens = [token.lemma_ for token in doc]\n",
    "    entities = [(ent.text, ent.label_) for ent in doc.ents]\n",
    "    return \" \".join(tokens), entities"
   ]
  },
  {
   "cell_type": "code",
   "execution_count": 6,
   "metadata": {},
   "outputs": [],
   "source": [
    "# Fonction pour analyser les sentiments avec BERT\n",
    "def analyze_sentiment(text):\n",
    "    result = sentiment_analyzer(text)\n",
    "    return result"
   ]
  },
  {
   "cell_type": "code",
   "execution_count": 7,
   "metadata": {},
   "outputs": [],
   "source": [
    "# Fonction pour générer un résumé ou une réponse avec GPT\n",
    "def generate_summary(text):\n",
    "    result = gpt_model(text, max_length=50, num_return_sequences=1)\n",
    "    return result[0]['generated_text']"
   ]
  },
  {
   "cell_type": "code",
   "execution_count": 8,
   "metadata": {},
   "outputs": [
    {
     "name": "stdout",
     "output_type": "stream",
     "text": [
      "Avis original : J'adore le nouveau design du produit ! Il est incroyable et fonctionne parfaitement.\n",
      "Texte prétraité : je adorer le nouveau design de produit ! il être incroyable et fonctionner parfaitement .\n",
      "Entités : []\n"
     ]
    },
    {
     "name": "stderr",
     "output_type": "stream",
     "text": [
      "Truncation was not explicitly activated but `max_length` is provided a specific value, please use `truncation=True` to explicitly truncate examples to max length. Defaulting to 'longest_first' truncation strategy. If you encode pairs of sequences (GLUE-style) with the tokenizer you can select this strategy more precisely by providing a specific strategy to `truncation`.\n",
      "Setting `pad_token_id` to `eos_token_id`:50256 for open-end generation.\n"
     ]
    },
    {
     "name": "stdout",
     "output_type": "stream",
     "text": [
      "Sentiment : [{'label': '5 stars', 'score': 0.8755618333816528}]\n",
      "Résumé généré : J'adore le nouveau design du produit ! Il est incroyable et fonctionne parfaitement.\n",
      "\n",
      "[Translation by H. G. de Brabantse (1858-1930)\n",
      "--------------------------------------------------\n",
      "Avis original : Le service était terrible et j'ai dû attendre des heures. Pas recommandé.\n",
      "Texte prétraité : le service être terrible et je avoir devoir attendre un heure . pas recommander .\n",
      "Entités : []\n"
     ]
    },
    {
     "name": "stderr",
     "output_type": "stream",
     "text": [
      "Setting `pad_token_id` to `eos_token_id`:50256 for open-end generation.\n"
     ]
    },
    {
     "name": "stdout",
     "output_type": "stream",
     "text": [
      "Sentiment : [{'label': '1 star', 'score': 0.7083746790885925}]\n",
      "Résumé généré : Le service était terrible et j'ai dû attendre des heures. Pas recommandé.\n",
      "\n",
      "Pursuant: No service.\n",
      "\n",
      "RÉSCHURER: But you never said that.\n",
      "\n",
      "\n",
      "--------------------------------------------------\n",
      "Avis original : Super expérience, l'équipe était très serviable et le produit vaut chaque centime.\n",
      "Texte prétraité : Super expérience , le équipe être très serviable et le produit valoir chaque centime .\n",
      "Entités : [('Super expérience', 'MISC')]\n"
     ]
    },
    {
     "name": "stderr",
     "output_type": "stream",
     "text": [
      "Setting `pad_token_id` to `eos_token_id`:50256 for open-end generation.\n"
     ]
    },
    {
     "name": "stdout",
     "output_type": "stream",
     "text": [
      "Sentiment : [{'label': '5 stars', 'score': 0.8006826639175415}]\n",
      "Résumé généré : Super expérience, l'équipe était très serviable et le produit vaut chaque centime. »\n",
      "\n",
      "The book on which his life is based consists of three important essays, one in which\n",
      "--------------------------------------------------\n"
     ]
    },
    {
     "ename": "",
     "evalue": "",
     "output_type": "error",
     "traceback": [
      "\u001b[1;31mThe Kernel crashed while executing code in the current cell or a previous cell. \n",
      "\u001b[1;31mPlease review the code in the cell(s) to identify a possible cause of the failure. \n",
      "\u001b[1;31mClick <a href='https://aka.ms/vscodeJupyterKernelCrash'>here</a> for more info. \n",
      "\u001b[1;31mView Jupyter <a href='command:jupyter.viewOutput'>log</a> for further details."
     ]
    }
   ],
   "source": [
    "# Application\n",
    "\n",
    "reviews = [\n",
    "        \"J'adore le nouveau design du produit ! Il est incroyable et fonctionne parfaitement.\",\n",
    "        \"Le service était terrible et j'ai dû attendre des heures. Pas recommandé.\",\n",
    "        \"Super expérience, l'équipe était très serviable et le produit vaut chaque centime.\"\n",
    "    ]\n",
    "\n",
    "for review in reviews:\n",
    "    print(f\"Avis original : {review}\")\n",
    "        \n",
    "    preprocessed_text, entities = preprocess_text(review)\n",
    "    print(f\"Texte prétraité : {preprocessed_text}\")\n",
    "    print(f\"Entités : {entities}\")\n",
    "        \n",
    "    sentiment = analyze_sentiment(review)\n",
    "    print(f\"Sentiment : {sentiment}\")\n",
    "        \n",
    "    summary = generate_summary(review)\n",
    "    print(f\"Résumé généré : {summary}\")\n",
    "    print(\"-\" * 50)"
   ]
  }
 ],
 "metadata": {
  "kernelspec": {
   "display_name": ".nlp-end-to-end-project",
   "language": "python",
   "name": "python3"
  },
  "language_info": {
   "codemirror_mode": {
    "name": "ipython",
    "version": 3
   },
   "file_extension": ".py",
   "mimetype": "text/x-python",
   "name": "python",
   "nbconvert_exporter": "python",
   "pygments_lexer": "ipython3",
   "version": "3.11.0"
  }
 },
 "nbformat": 4,
 "nbformat_minor": 2
}
